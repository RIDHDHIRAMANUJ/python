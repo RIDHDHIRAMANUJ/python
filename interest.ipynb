{
 "cells": [
  {
   "cell_type": "code",
   "execution_count": 1,
   "id": "047a1791",
   "metadata": {},
   "outputs": [
    {
     "name": "stdout",
     "output_type": "stream",
     "text": [
      "Enter Principal Amount : 1000\n",
      "Enter Time Period : 2\n",
      "Simple Interest :  108.0\n",
      "Compound Interest :  110.91599999999994\n"
     ]
    }
   ],
   "source": [
    "principle = int(input(\"Enter Principal Amount : \"))\n",
    "\n",
    "time = int(input(\"Enter Time Period : \"))\n",
    "\n",
    "rate_of_interest=5.4\n",
    "\n",
    "simple_interest = principle*rate_of_interest*time/100\n",
    "print(\"Simple Interest : \",simple_interest)\n",
    "\n",
    "compound_interest = principle*((1 + (rate_of_interest/100))**time)\n",
    "print(\"Compound Interest : \",compound_interest-principle)\n",
    "\n",
    "\n"
   ]
  },
  {
   "cell_type": "code",
   "execution_count": null,
   "id": "c4dc5b31",
   "metadata": {},
   "outputs": [],
   "source": []
  }
 ],
 "metadata": {
  "kernelspec": {
   "display_name": "Python 3 (ipykernel)",
   "language": "python",
   "name": "python3"
  },
  "language_info": {
   "codemirror_mode": {
    "name": "ipython",
    "version": 3
   },
   "file_extension": ".py",
   "mimetype": "text/x-python",
   "name": "python",
   "nbconvert_exporter": "python",
   "pygments_lexer": "ipython3",
   "version": "3.11.5"
  }
 },
 "nbformat": 4,
 "nbformat_minor": 5
}
