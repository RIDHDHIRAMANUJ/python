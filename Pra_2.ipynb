{
 "cells": [
  {
   "cell_type": "code",
   "execution_count": 1,
   "id": "1a2e5f30",
   "metadata": {},
   "outputs": [
    {
     "name": "stdout",
     "output_type": "stream",
     "text": [
      "Original :  [13, 22, 18, 12, 2, 11]\n",
      "After append :  [13, 22, 18, 12, 2, 11, 25]\n",
      "After extend :  [13, 22, 18, 12, 2, 11, 25, 15, 7]\n",
      "Remove 15 :  [13, 22, 18, 12, 2, 11, 25, 7]\n",
      "Reverse list :  [7, 25, 11, 2, 12, 18, 22, 13]\n",
      "Ascending :  [2, 7, 11, 12, 13, 18, 22, 25]\n",
      "Descending :  [25, 22, 18, 13, 12, 11, 7, 2]\n"
     ]
    }
   ],
   "source": [
    "list1 = [13, 22, 18, 12, 2, 11]\n",
    "print(\"Original : \", list1)\n",
    "\n",
    "list1.append(25)\n",
    "print(\"After append : \",list1)\n",
    "list2 = [15, 7]\n",
    "list1.extend(list2)\n",
    "print(\"After extend : \",list1)\n",
    "\n",
    "list1.remove(15)\n",
    "print(\"Remove 15 : \",list1)\n",
    "\n",
    "list3 = list1[ : :-1]\n",
    "print(\"Reverse list : \",list3)\n",
    "\n",
    "list1.sort()\n",
    "print(\"Ascending : \",list1)\n",
    "list1.sort(reverse=True)\n",
    "print(\"Descending : \",list1)"
   ]
  },
  {
   "cell_type": "code",
   "execution_count": 2,
   "id": "658ebf38",
   "metadata": {},
   "outputs": [
    {
     "name": "stdout",
     "output_type": "stream",
     "text": [
      "List1[8][2] :  orange\n",
      "List1[4][0] :  python\n",
      "5 times : \n",
      " [1, 2, 3, 4, ['python', 'java', 'c++', [10, 20, 30]], 5, 6, 7, ['apple', 'banana', 'orange'], 1, 2, 3, 4, ['python', 'java', 'c++', [10, 20, 30]], 5, 6, 7, ['apple', 'banana', 'orange'], 1, 2, 3, 4, ['python', 'java', 'c++', [10, 20, 30]], 5, 6, 7, ['apple', 'banana', 'orange'], 1, 2, 3, 4, ['python', 'java', 'c++', [10, 20, 30]], 5, 6, 7, ['apple', 'banana', 'orange'], 1, 2, 3, 4, ['python', 'java', 'c++', [10, 20, 30]], 5, 6, 7, ['apple', 'banana', 'orange']]\n"
     ]
    }
   ],
   "source": [
    "List1 =[1,2,3,4,[\"python\",\"java\",\"c++\",[10,20,30]],5,6,7,[\"apple\",\"banana\",\"orange\"]]\n",
    "#orange\n",
    "print(\"List1[8][2] : \",List1[8][2])\n",
    "#python\n",
    "print(\"List1[4][0] : \",List1[4][0])\n",
    "#print 5 times\n",
    "print(\"5 times : \\n\",List1*5)\n",
    "\n"
   ]
  },
  {
   "cell_type": "code",
   "execution_count": 3,
   "id": "55cc5b7b",
   "metadata": {},
   "outputs": [
    {
     "name": "stdout",
     "output_type": "stream",
     "text": [
      "Original :  [13, 22, 18, 12, 2, 11]\n",
      "Copied list :  [13, 22, 18, 12, 2, 11]\n"
     ]
    }
   ],
   "source": [
    "list1 = [13, 22, 18, 12, 2, 11]\n",
    "print(\"Original : \", list1)\n",
    "#copying list\n",
    "list2 = list1[ : ]\n",
    "print(\"Copied list : \",list2)\n",
    "\n"
   ]
  },
  {
   "cell_type": "code",
   "execution_count": 5,
   "id": "3d6d9c5c",
   "metadata": {},
   "outputs": [
    {
     "name": "stdout",
     "output_type": "stream",
     "text": [
      "(5, 7, 11, 13, 17, 5)\n",
      "Sum of elements :  58\n",
      "Minimum element :  5\n",
      "Maximum element :  17\n",
      "Element at index 3 :  13\n",
      "Number of 5s :  2\n",
      "Index of 1st 5 : 0\n",
      "\n",
      "Iterate tuple elements :\n",
      "5 7 11 13 17 5 "
     ]
    }
   ],
   "source": [
    "tup = (5, 7, 11, 13, 17, 5)\n",
    "print(tup)\n",
    "#sum of all values in tuple\n",
    "print(\"Sum of elements : \",sum(tup))\n",
    "#min and max of tuple values\n",
    "print(\"Minimum element : \",min(tup))\n",
    "print(\"Maximum element : \",max(tup))\n",
    "#indexing\n",
    "print(\"Element at index 3 : \",tup[3])\n",
    "#count and index\n",
    "print(\"Number of 5s : \",tup.count(5))\n",
    "print(\"Index of 1st 5 :\",tup.index(5))\n",
    "#iteration of tuple\n",
    "print(\"\\nIterate tuple elements :\")\n",
    "for i in tup:print(i,end = \" \")"
   ]
  },
  {
   "cell_type": "code",
   "execution_count": null,
   "id": "a2b32dcf",
   "metadata": {},
   "outputs": [],
   "source": []
  }
 ],
 "metadata": {
  "kernelspec": {
   "display_name": "Python 3 (ipykernel)",
   "language": "python",
   "name": "python3"
  },
  "language_info": {
   "codemirror_mode": {
    "name": "ipython",
    "version": 3
   },
   "file_extension": ".py",
   "mimetype": "text/x-python",
   "name": "python",
   "nbconvert_exporter": "python",
   "pygments_lexer": "ipython3",
   "version": "3.11.5"
  }
 },
 "nbformat": 4,
 "nbformat_minor": 5
}
